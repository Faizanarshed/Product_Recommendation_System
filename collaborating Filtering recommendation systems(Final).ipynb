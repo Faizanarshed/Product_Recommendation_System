{
 "cells": [
  {
   "cell_type": "code",
   "execution_count": 39,
   "id": "4055ce76",
   "metadata": {},
   "outputs": [],
   "source": [
    "# Importing the necessary libraries\n",
    "import pandas as pd            # pandas is used for data manipulation and analysis\n",
    "import numpy as np             # numpy provides support for arrays and mathematical functions\n",
    "import seaborn as sns          # seaborn is used for data visualization\n",
    "import matplotlib.pyplot as plt  # matplotlib is used for creating visualizations\n",
    "from mpl_toolkits.mplot3d import Axes3D  # Used to create 3D plots\n",
    "from sklearn.feature_extraction.text import CountVectorizer  # Used for text feature extraction\n",
    "from sklearn.metrics.pairwise import cosine_similarity      # Used to calculate cosine similarity between vectors"
   ]
  },
  {
   "cell_type": "code",
   "execution_count": 40,
   "id": "c5187583",
   "metadata": {},
   "outputs": [],
   "source": [
    "# Loading the Cleaned E-Commerce Data of 23k Customers\n",
    "data = pd.read_csv('cleaned_data.csv')"
   ]
  },
  {
   "cell_type": "code",
   "execution_count": 41,
   "id": "87ac808c",
   "metadata": {},
   "outputs": [
    {
     "data": {
      "text/html": [
       "<div>\n",
       "<style scoped>\n",
       "    .dataframe tbody tr th:only-of-type {\n",
       "        vertical-align: middle;\n",
       "    }\n",
       "\n",
       "    .dataframe tbody tr th {\n",
       "        vertical-align: top;\n",
       "    }\n",
       "\n",
       "    .dataframe thead th {\n",
       "        text-align: right;\n",
       "    }\n",
       "</style>\n",
       "<table border=\"1\" class=\"dataframe\">\n",
       "  <thead>\n",
       "    <tr style=\"text-align: right;\">\n",
       "      <th></th>\n",
       "      <th>Clothing ID</th>\n",
       "      <th>Age</th>\n",
       "      <th>Title</th>\n",
       "      <th>Review Text</th>\n",
       "      <th>Rating</th>\n",
       "      <th>Recommended IND</th>\n",
       "      <th>Positive Feedback Count</th>\n",
       "      <th>Division Name</th>\n",
       "      <th>Department Name</th>\n",
       "      <th>Class Name</th>\n",
       "      <th>Polarity</th>\n",
       "      <th>Subjectivity</th>\n",
       "      <th>Sentiment Label</th>\n",
       "    </tr>\n",
       "  </thead>\n",
       "  <tbody>\n",
       "    <tr>\n",
       "      <th>0</th>\n",
       "      <td>1077</td>\n",
       "      <td>60</td>\n",
       "      <td>Some major design flaws</td>\n",
       "      <td>I had such high hopes for this dress and reall...</td>\n",
       "      <td>3</td>\n",
       "      <td>0</td>\n",
       "      <td>0</td>\n",
       "      <td>General</td>\n",
       "      <td>Dresses</td>\n",
       "      <td>Dresses</td>\n",
       "      <td>0.07</td>\n",
       "      <td>0.36</td>\n",
       "      <td>Positive</td>\n",
       "    </tr>\n",
       "    <tr>\n",
       "      <th>1</th>\n",
       "      <td>1049</td>\n",
       "      <td>50</td>\n",
       "      <td>My favorite buy!</td>\n",
       "      <td>I love, love, love this jumpsuit. it's fun, fl...</td>\n",
       "      <td>5</td>\n",
       "      <td>1</td>\n",
       "      <td>0</td>\n",
       "      <td>General Petite</td>\n",
       "      <td>Bottoms</td>\n",
       "      <td>Pants</td>\n",
       "      <td>0.55</td>\n",
       "      <td>0.62</td>\n",
       "      <td>Positive</td>\n",
       "    </tr>\n",
       "    <tr>\n",
       "      <th>2</th>\n",
       "      <td>847</td>\n",
       "      <td>47</td>\n",
       "      <td>Flattering shirt</td>\n",
       "      <td>This shirt is very flattering to all due to th...</td>\n",
       "      <td>5</td>\n",
       "      <td>1</td>\n",
       "      <td>6</td>\n",
       "      <td>General</td>\n",
       "      <td>Tops</td>\n",
       "      <td>Blouses</td>\n",
       "      <td>0.51</td>\n",
       "      <td>0.57</td>\n",
       "      <td>Positive</td>\n",
       "    </tr>\n",
       "    <tr>\n",
       "      <th>3</th>\n",
       "      <td>1080</td>\n",
       "      <td>49</td>\n",
       "      <td>Not for the very petite</td>\n",
       "      <td>I love tracy reese dresses, but this one is no...</td>\n",
       "      <td>2</td>\n",
       "      <td>0</td>\n",
       "      <td>4</td>\n",
       "      <td>General</td>\n",
       "      <td>Dresses</td>\n",
       "      <td>Dresses</td>\n",
       "      <td>0.18</td>\n",
       "      <td>0.53</td>\n",
       "      <td>Positive</td>\n",
       "    </tr>\n",
       "    <tr>\n",
       "      <th>4</th>\n",
       "      <td>858</td>\n",
       "      <td>39</td>\n",
       "      <td>Cagrcoal shimmer fun</td>\n",
       "      <td>I aded this in my basket at hte last mintue to...</td>\n",
       "      <td>5</td>\n",
       "      <td>1</td>\n",
       "      <td>1</td>\n",
       "      <td>General Petite</td>\n",
       "      <td>Tops</td>\n",
       "      <td>Knits</td>\n",
       "      <td>0.13</td>\n",
       "      <td>0.61</td>\n",
       "      <td>Positive</td>\n",
       "    </tr>\n",
       "  </tbody>\n",
       "</table>\n",
       "</div>"
      ],
      "text/plain": [
       "   Clothing ID  Age                    Title  \\\n",
       "0         1077   60  Some major design flaws   \n",
       "1         1049   50         My favorite buy!   \n",
       "2          847   47         Flattering shirt   \n",
       "3         1080   49  Not for the very petite   \n",
       "4          858   39     Cagrcoal shimmer fun   \n",
       "\n",
       "                                         Review Text  Rating  Recommended IND  \\\n",
       "0  I had such high hopes for this dress and reall...       3                0   \n",
       "1  I love, love, love this jumpsuit. it's fun, fl...       5                1   \n",
       "2  This shirt is very flattering to all due to th...       5                1   \n",
       "3  I love tracy reese dresses, but this one is no...       2                0   \n",
       "4  I aded this in my basket at hte last mintue to...       5                1   \n",
       "\n",
       "   Positive Feedback Count   Division Name Department Name Class Name  \\\n",
       "0                        0         General         Dresses    Dresses   \n",
       "1                        0  General Petite         Bottoms      Pants   \n",
       "2                        6         General            Tops    Blouses   \n",
       "3                        4         General         Dresses    Dresses   \n",
       "4                        1  General Petite            Tops      Knits   \n",
       "\n",
       "   Polarity  Subjectivity Sentiment Label  \n",
       "0      0.07          0.36        Positive  \n",
       "1      0.55          0.62        Positive  \n",
       "2      0.51          0.57        Positive  \n",
       "3      0.18          0.53        Positive  \n",
       "4      0.13          0.61        Positive  "
      ]
     },
     "execution_count": 41,
     "metadata": {},
     "output_type": "execute_result"
    }
   ],
   "source": [
    "data.head()"
   ]
  },
  {
   "cell_type": "code",
   "execution_count": 42,
   "id": "5e28054b",
   "metadata": {},
   "outputs": [
    {
     "data": {
      "text/plain": [
       "(19662, 13)"
      ]
     },
     "execution_count": 42,
     "metadata": {},
     "output_type": "execute_result"
    }
   ],
   "source": [
    "data.shape"
   ]
  },
  {
   "cell_type": "code",
   "execution_count": 43,
   "id": "dd3548e1",
   "metadata": {},
   "outputs": [],
   "source": [
    "# Calling the Variables from E-Commerce Data of 23k Customers\n",
    "data = data[['Clothing ID', 'Age', 'Recommended IND', 'Review Text', 'Rating']]\n",
    "data.dropna(subset=['Review Text'], inplace=True)\n",
    "data.reset_index(drop=True, inplace=True)\n",
    "data['Review Text'] = data['Review Text'].str.lower()"
   ]
  },
  {
   "cell_type": "code",
   "execution_count": 44,
   "id": "467b0cfc",
   "metadata": {},
   "outputs": [
    {
     "name": "stdout",
     "output_type": "stream",
     "text": [
      "      1077  1049  847   1080  858   1095  767   1065  853   1120  ...  227   \\\n",
      "1077  1.00  0.00  0.00  0.00  0.00  0.15  0.00  0.00  0.00  0.00  ...  0.00   \n",
      "1049  0.00  1.00  1.00  0.00  0.00  0.00  0.00  0.00  0.00  1.00  ...  0.00   \n",
      "847   0.00  1.00  1.00  0.00  0.00  0.00  0.00  0.00  0.00  1.00  ...  0.00   \n",
      "1080  0.00  0.00  0.00  1.00  1.00  0.00  0.00  0.00  0.00  0.00  ...  0.45   \n",
      "858   0.00  0.00  0.00  1.00  1.00  0.00  0.00  0.00  0.00  0.00  ...  0.45   \n",
      "...    ...   ...   ...   ...   ...   ...   ...   ...   ...   ...  ...   ...   \n",
      "630   0.27  0.00  0.00  0.00  0.00  0.00  0.00  0.00  0.00  0.00  ...  0.00   \n",
      "181   0.00  0.30  0.30  0.00  0.00  0.00  0.00  0.00  0.00  0.30  ...  0.00   \n",
      "721   0.00  0.00  0.00  0.00  0.00  0.00  0.42  0.00  0.00  0.00  ...  0.34   \n",
      "262   0.00  0.00  0.00  1.00  1.00  0.00  0.00  0.00  0.00  0.00  ...  0.45   \n",
      "522   0.00  0.00  0.00  0.00  0.00  0.00  1.00  0.00  0.00  0.00  ...  0.00   \n",
      "\n",
      "      487   387   640   345   630   181   721   262   522   \n",
      "1077  0.00  0.00  0.00  0.00  0.27  0.00  0.00  0.00  0.00  \n",
      "1049  0.00  0.00  0.00  0.00  0.00  0.30  0.00  0.00  0.00  \n",
      "847   0.00  0.00  0.00  0.00  0.00  0.30  0.00  0.00  0.00  \n",
      "1080  0.00  0.00  0.00  0.00  0.00  0.00  0.00  1.00  0.00  \n",
      "858   0.00  0.00  0.00  0.00  0.00  0.00  0.00  1.00  0.00  \n",
      "...    ...   ...   ...   ...   ...   ...   ...   ...   ...  \n",
      "630   0.00  0.00  0.00  0.00  1.00  0.00  0.00  0.00  0.00  \n",
      "181   0.22  0.22  0.00  0.38  0.00  1.00  0.16  0.00  0.00  \n",
      "721   0.00  0.00  0.00  0.00  0.00  0.16  1.00  0.00  0.42  \n",
      "262   0.00  0.00  0.00  0.00  0.00  0.00  0.00  1.00  0.00  \n",
      "522   0.00  0.00  0.00  0.00  0.00  0.00  0.42  0.00  1.00  \n",
      "\n",
      "[1095 rows x 1095 columns]\n",
      "Cosine Similarity Matrix for Recommended Clothing IDs (Collaborative Filtering):\n",
      "      1077  1049  847   1080  858   1095  767   1065  853   1120  ...  227   \\\n",
      "1077  1.00  0.00  0.00  0.00  0.00  0.15  0.00  0.00  0.00  0.00  ...  0.00   \n",
      "1049  0.00  1.00  1.00  0.00  0.00  0.00  0.00  0.00  0.00  1.00  ...  0.00   \n",
      "847   0.00  1.00  1.00  0.00  0.00  0.00  0.00  0.00  0.00  1.00  ...  0.00   \n",
      "1080  0.00  0.00  0.00  1.00  1.00  0.00  0.00  0.00  0.00  0.00  ...  0.45   \n",
      "858   0.00  0.00  0.00  1.00  1.00  0.00  0.00  0.00  0.00  0.00  ...  0.45   \n",
      "...    ...   ...   ...   ...   ...   ...   ...   ...   ...   ...  ...   ...   \n",
      "630   0.27  0.00  0.00  0.00  0.00  0.00  0.00  0.00  0.00  0.00  ...  0.00   \n",
      "181   0.00  0.30  0.30  0.00  0.00  0.00  0.00  0.00  0.00  0.30  ...  0.00   \n",
      "721   0.00  0.00  0.00  0.00  0.00  0.00  0.42  0.00  0.00  0.00  ...  0.34   \n",
      "262   0.00  0.00  0.00  1.00  1.00  0.00  0.00  0.00  0.00  0.00  ...  0.45   \n",
      "522   0.00  0.00  0.00  0.00  0.00  0.00  1.00  0.00  0.00  0.00  ...  0.00   \n",
      "\n",
      "      487   387   640   345   630   181   721   262   522   \n",
      "1077  0.00  0.00  0.00  0.00  0.27  0.00  0.00  0.00  0.00  \n",
      "1049  0.00  0.00  0.00  0.00  0.00  0.30  0.00  0.00  0.00  \n",
      "847   0.00  0.00  0.00  0.00  0.00  0.30  0.00  0.00  0.00  \n",
      "1080  0.00  0.00  0.00  0.00  0.00  0.00  0.00  1.00  0.00  \n",
      "858   0.00  0.00  0.00  0.00  0.00  0.00  0.00  1.00  0.00  \n",
      "...    ...   ...   ...   ...   ...   ...   ...   ...   ...  \n",
      "630   0.00  0.00  0.00  0.00  1.00  0.00  0.00  0.00  0.00  \n",
      "181   0.22  0.22  0.00  0.38  0.00  1.00  0.16  0.00  0.00  \n",
      "721   0.00  0.00  0.00  0.00  0.00  0.16  1.00  0.00  0.42  \n",
      "262   0.00  0.00  0.00  0.00  0.00  0.00  0.00  1.00  0.00  \n",
      "522   0.00  0.00  0.00  0.00  0.00  0.00  0.42  0.00  1.00  \n",
      "\n",
      "[1095 rows x 1095 columns]\n"
     ]
    }
   ],
   "source": [
    "\n",
    "\n",
    "# Calling the Clothing Items by using 'Clothing ID'here\n",
    "Clothing_id = data['Clothing ID'].unique()\n",
    "\n",
    "# Designing the Customer and Clothing Matrix by focusing on preferences of 'Clothing ID', 'Age' and 'Rating' through pivot table\n",
    "Clothing_Customer_matrix = data.pivot_table(index='Clothing ID', columns='Age', values='Rating', fill_value=0)\n",
    "\n",
    "# Shifting the data from pivot table to Numpy array to move towards cosine similarlity  \n",
    "Clothing_Customer_matrix = Clothing_Customer_matrix.to_numpy()\n",
    "\n",
    "# Cosine Similarlity for Collborative filtering by taking Customer and Clothing matrix \n",
    "Clothing_similarity = cosine_similarity(Clothing_Customer_matrix)\n",
    "\n",
    "# Designing DataFrame by using Similiarity matrix data here\n",
    "Clothing_similarity_df = pd.DataFrame(\n",
    "    Clothing_similarity,\n",
    "    index=Clothing_id,\n",
    "    columns=Clothing_id\n",
    ")\n",
    "\n",
    "# Display of the Recommended Clothing ID of Collborative Filtering \n",
    "print(Clothing_similarity_df)\n",
    "pd.options.display.float_format = '{:.2f}'.format\n",
    "\n",
    "print(\"Cosine Similarity Matrix for Recommended Clothing IDs (Collaborative Filtering):\")\n",
    "print(Clothing_similarity_df)\n",
    "\n"
   ]
  },
  {
   "cell_type": "code",
   "execution_count": 52,
   "id": "a333d3a3",
   "metadata": {},
   "outputs": [
    {
     "name": "stdout",
     "output_type": "stream",
     "text": [
      "Top Recommendations for Clothing ID 1104\n",
      "       Clothing ID  Age  Rating\n",
      "9821          1078   28       5\n",
      "17250         1066   57       5\n",
      "9437           829   52       5\n",
      "9439          1094   37       5\n",
      "17249         1086   39       5\n"
     ]
    },
    {
     "data": {
      "image/png": "[encoded data removed]",
      "text/plain": [
       "<Figure size 900x600 with 1 Axes>"
      ]
     },
     "metadata": {},
     "output_type": "display_data"
    }
   ],
   "source": [
    "Clothing_id = data['Clothing ID'].unique()\n",
    "\n",
    "# Locating the recommendation by using the 'Review Text' preferences from data\n",
    "vectorizer = CountVectorizer(stop_words='english')\n",
    "review_matrix = vectorizer.fit_transform(data['Review Text'])\n",
    "review_similarity = cosine_similarity(review_matrix)\n",
    "review_similarity_df = pd.DataFrame(review_similarity, index=data.index, columns=data.index)\n",
    "\n",
    "# Calculating the Combined Similarity\n",
    "alpha = 0.7\n",
    "combined_similarity = alpha * Clothing_similarity_df + (1 - alpha) * review_similarity_df\n",
    "\n",
    "# Updating the recommendations DataFrame based on the combined similarity for the specific 'clothing_id'\n",
    "clothing_id = 1104\n",
    "recommendations = pd.DataFrame(data)\n",
    "selected_recommendations = recommendations[recommendations['Clothing ID'] == clothing_id]\n",
    "\n",
    "# Drop duplicate recommendations based on 'Clothing ID'\n",
    "selected_recommendations = selected_recommendations.drop_duplicates(subset='Clothing ID', keep='first')\n",
    "\n",
    "# Excluding the input 'clothing_id' from the recommendations\n",
    "recommendations = recommendations[recommendations['Clothing ID'] != clothing_id]\n",
    "\n",
    "# Sorting the recommendations based on 'Rating' in descending order\n",
    "sorted_recommendations = recommendations.sort_values(by='Rating', ascending=False)\n",
    "\n",
    "# Displaying top 5 recommendations for the specific 'Clothing ID'\n",
    "print(\"Top Recommendations for Clothing ID\", clothing_id)\n",
    "print(sorted_recommendations[['Clothing ID', 'Age', 'Rating']].head(5))\n",
    "\n",
    "# Grouping of the DataFrame by preference of 'Clothing ID' and exploring the average rating for each selected Clothing_id\n",
    "average_ratings = recommendations.groupby('Clothing ID')['Rating'].mean().reset_index()\n",
    "\n",
    "# Designing Bar Plot to visualize the recommended Clothing ID\n",
    "plt.figure(figsize=(9, 6))\n",
    "plt.bar(average_ratings['Clothing ID'], average_ratings['Rating'], color='red')\n",
    "plt.xlabel('Clothing ID')\n",
    "plt.ylabel('Average Rating')\n",
    "plt.title('Average Ratings for Clothing IDs')\n",
    "plt.xticks(rotation=90)\n",
    "plt.grid(axis='y')\n",
    "plt.show()\n"
   ]
  },
  {
   "cell_type": "code",
   "execution_count": 46,
   "id": "2e84f8b5",
   "metadata": {},
   "outputs": [],
   "source": []
  },
  {
   "cell_type": "code",
   "execution_count": 47,
   "id": "7f42595a",
   "metadata": {},
   "outputs": [],
   "source": [
    "recommendations = pd.DataFrame(data)\n",
    "# Using 'recommendations' DataFrame and duplicating Clothing IDs \n",
    "recommendations = recommendations.drop_duplicates(subset='Clothing ID', keep='first')"
   ]
  },
  {
   "cell_type": "code",
   "execution_count": 49,
   "id": "cf62867b",
   "metadata": {
    "scrolled": false
   },
   "outputs": [
    {
     "name": "stdout",
     "output_type": "stream",
     "text": [
      "Top Recommendations for Clothing ID 22\n",
      "   Clothing ID  Age  Rating\n",
      "0         1077   60       3\n",
      "1         1049   50       5\n",
      "2          847   47       5\n",
      "3         1080   49       2\n",
      "4          858   39       5\n"
     ]
    },
    {
     "data": {
      "image/png": "[encoded data removed]",
      "text/plain": [
       "<Figure size 900x600 with 1 Axes>"
      ]
     },
     "metadata": {},
     "output_type": "display_data"
    }
   ],
   "source": [
    "# Displaying recommendations for specific 'Clothing ID'\n",
    "clothing_id = 22\n",
    "print(\"Top Recommendations for Clothing ID\", clothing_id)\n",
    "print(recommendations[['Clothing ID', 'Age', 'Rating']].head(5))\n",
    "\n",
    "# Grouping of the DataFrame by preference of 'Clothing ID' and exploring the average rating for each selected Clothing_id\n",
    "average_ratings = recommendations.groupby('Clothing ID')['Rating'].mean().reset_index()\n",
    "\n",
    "# Designing Bar Plot to visualise the recommended Clothing ID\n",
    "plt.figure(figsize=(9, 6)) \n",
    "plt.bar(average_ratings['Clothing ID'], average_ratings['Rating'], color='red')\n",
    "plt.xlabel('Clothing ID')\n",
    "plt.ylabel('Average Rating')\n",
    "plt.title('Average Ratings for Clothing IDs')\n",
    "plt.xticks(rotation=90) \n",
    "plt.grid(axis='y')  \n",
    "plt.show()"
   ]
  },
  {
   "cell_type": "code",
   "execution_count": 51,
   "id": "3feba905",
   "metadata": {
    "scrolled": false
   },
   "outputs": [
    {
     "name": "stdout",
     "output_type": "stream",
     "text": [
      "Top Recommendations for Clothing ID 1104\n",
      "       Clothing ID  Age  Rating\n",
      "9821          1078   28       5\n",
      "17250         1066   57       5\n",
      "9437           829   52       5\n",
      "9439          1094   37       5\n",
      "17249         1086   39       5\n"
     ]
    },
    {
     "data": {
      "image/png": "[encoded data removed]",
      "text/plain": [
       "<Figure size 900x600 with 1 Axes>"
      ]
     },
     "metadata": {},
     "output_type": "display_data"
    }
   ],
   "source": []
  },
  {
   "cell_type": "code",
   "execution_count": null,
   "id": "584037bc",
   "metadata": {},
   "outputs": [],
   "source": []
  }
 ],
 "metadata": {
  "kernelspec": {
   "display_name": "Python 3 (ipykernel)",
   "language": "python",
   "name": "python3"
  },
  "language_info": {
   "codemirror_mode": {
    "name": "ipython",
    "version": 3
   },
   "file_extension": ".py",
   "mimetype": "text/x-python",
   "name": "python",
   "nbconvert_exporter": "python",
   "pygments_lexer": "ipython3",
   "version": "3.9.13"
  }
 },
 "nbformat": 4,
 "nbformat_minor": 5
}
