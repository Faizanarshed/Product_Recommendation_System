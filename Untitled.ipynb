{
 "cells": [
  {
   "cell_type": "code",
   "execution_count": 2,
   "id": "3a78747d",
   "metadata": {},
   "outputs": [],
   "source": [
    "import pandas as pd\n",
    "import numpy as np\n",
    "import matplotlib as mpl  \n",
    "import matplotlib.pyplot as plt  \n",
    "import seaborn as sns  \n",
    "import sklearn\n",
    "from textblob import TextBlob\n",
    "from sklearn.feature_extraction.text import TfidfVectorizer\n",
    "from sklearn.metrics.pairwise import linear_kernel"
   ]
  },
  {
   "cell_type": "code",
   "execution_count": 63,
   "id": "56fe7cde",
   "metadata": {},
   "outputs": [],
   "source": [
    "data = pd.read_csv('Womens Clothing E-Commerce Reviews.csv')"
   ]
  },
  {
   "cell_type": "code",
   "execution_count": 64,
   "id": "78657568",
   "metadata": {},
   "outputs": [
    {
     "data": {
      "text/plain": [
       "(23486, 11)"
      ]
     },
     "execution_count": 64,
     "metadata": {},
     "output_type": "execute_result"
    }
   ],
   "source": [
    "data.shape"
   ]
  },
  {
   "cell_type": "code",
   "execution_count": 65,
   "id": "b729cd33",
   "metadata": {},
   "outputs": [
    {
     "data": {
      "text/html": [
       "<div>\n",
       "<style scoped>\n",
       "    .dataframe tbody tr th:only-of-type {\n",
       "        vertical-align: middle;\n",
       "    }\n",
       "\n",
       "    .dataframe tbody tr th {\n",
       "        vertical-align: top;\n",
       "    }\n",
       "\n",
       "    .dataframe thead th {\n",
       "        text-align: right;\n",
       "    }\n",
       "</style>\n",
       "<table border=\"1\" class=\"dataframe\">\n",
       "  <thead>\n",
       "    <tr style=\"text-align: right;\">\n",
       "      <th></th>\n",
       "      <th>Unnamed: 0</th>\n",
       "      <th>Clothing ID</th>\n",
       "      <th>Age</th>\n",
       "      <th>Title</th>\n",
       "      <th>Review Text</th>\n",
       "      <th>Rating</th>\n",
       "      <th>Recommended IND</th>\n",
       "      <th>Positive Feedback Count</th>\n",
       "      <th>Division Name</th>\n",
       "      <th>Department Name</th>\n",
       "      <th>Class Name</th>\n",
       "    </tr>\n",
       "  </thead>\n",
       "  <tbody>\n",
       "    <tr>\n",
       "      <th>0</th>\n",
       "      <td>0</td>\n",
       "      <td>767</td>\n",
       "      <td>33</td>\n",
       "      <td>NaN</td>\n",
       "      <td>Absolutely wonderful - silky and sexy and comf...</td>\n",
       "      <td>4</td>\n",
       "      <td>1</td>\n",
       "      <td>0</td>\n",
       "      <td>Initmates</td>\n",
       "      <td>Intimate</td>\n",
       "      <td>Intimates</td>\n",
       "    </tr>\n",
       "    <tr>\n",
       "      <th>1</th>\n",
       "      <td>1</td>\n",
       "      <td>1080</td>\n",
       "      <td>34</td>\n",
       "      <td>NaN</td>\n",
       "      <td>Love this dress!  it's sooo pretty.  i happene...</td>\n",
       "      <td>5</td>\n",
       "      <td>1</td>\n",
       "      <td>4</td>\n",
       "      <td>General</td>\n",
       "      <td>Dresses</td>\n",
       "      <td>Dresses</td>\n",
       "    </tr>\n",
       "    <tr>\n",
       "      <th>2</th>\n",
       "      <td>2</td>\n",
       "      <td>1077</td>\n",
       "      <td>60</td>\n",
       "      <td>Some major design flaws</td>\n",
       "      <td>I had such high hopes for this dress and reall...</td>\n",
       "      <td>3</td>\n",
       "      <td>0</td>\n",
       "      <td>0</td>\n",
       "      <td>General</td>\n",
       "      <td>Dresses</td>\n",
       "      <td>Dresses</td>\n",
       "    </tr>\n",
       "    <tr>\n",
       "      <th>3</th>\n",
       "      <td>3</td>\n",
       "      <td>1049</td>\n",
       "      <td>50</td>\n",
       "      <td>My favorite buy!</td>\n",
       "      <td>I love, love, love this jumpsuit. it's fun, fl...</td>\n",
       "      <td>5</td>\n",
       "      <td>1</td>\n",
       "      <td>0</td>\n",
       "      <td>General Petite</td>\n",
       "      <td>Bottoms</td>\n",
       "      <td>Pants</td>\n",
       "    </tr>\n",
       "    <tr>\n",
       "      <th>4</th>\n",
       "      <td>4</td>\n",
       "      <td>847</td>\n",
       "      <td>47</td>\n",
       "      <td>Flattering shirt</td>\n",
       "      <td>This shirt is very flattering to all due to th...</td>\n",
       "      <td>5</td>\n",
       "      <td>1</td>\n",
       "      <td>6</td>\n",
       "      <td>General</td>\n",
       "      <td>Tops</td>\n",
       "      <td>Blouses</td>\n",
       "    </tr>\n",
       "  </tbody>\n",
       "</table>\n",
       "</div>"
      ],
      "text/plain": [
       "   Unnamed: 0  Clothing ID  Age                    Title  \\\n",
       "0           0          767   33                      NaN   \n",
       "1           1         1080   34                      NaN   \n",
       "2           2         1077   60  Some major design flaws   \n",
       "3           3         1049   50         My favorite buy!   \n",
       "4           4          847   47         Flattering shirt   \n",
       "\n",
       "                                         Review Text  Rating  Recommended IND  \\\n",
       "0  Absolutely wonderful - silky and sexy and comf...       4                1   \n",
       "1  Love this dress!  it's sooo pretty.  i happene...       5                1   \n",
       "2  I had such high hopes for this dress and reall...       3                0   \n",
       "3  I love, love, love this jumpsuit. it's fun, fl...       5                1   \n",
       "4  This shirt is very flattering to all due to th...       5                1   \n",
       "\n",
       "   Positive Feedback Count   Division Name Department Name Class Name  \n",
       "0                        0       Initmates        Intimate  Intimates  \n",
       "1                        4         General         Dresses    Dresses  \n",
       "2                        0         General         Dresses    Dresses  \n",
       "3                        0  General Petite         Bottoms      Pants  \n",
       "4                        6         General            Tops    Blouses  "
      ]
     },
     "execution_count": 65,
     "metadata": {},
     "output_type": "execute_result"
    }
   ],
   "source": [
    "data.head()"
   ]
  },
  {
   "cell_type": "code",
   "execution_count": 66,
   "id": "6dac69d6",
   "metadata": {},
   "outputs": [
    {
     "data": {
      "text/html": [
       "<div>\n",
       "<style scoped>\n",
       "    .dataframe tbody tr th:only-of-type {\n",
       "        vertical-align: middle;\n",
       "    }\n",
       "\n",
       "    .dataframe tbody tr th {\n",
       "        vertical-align: top;\n",
       "    }\n",
       "\n",
       "    .dataframe thead th {\n",
       "        text-align: right;\n",
       "    }\n",
       "</style>\n",
       "<table border=\"1\" class=\"dataframe\">\n",
       "  <thead>\n",
       "    <tr style=\"text-align: right;\">\n",
       "      <th></th>\n",
       "      <th>Unnamed: 0</th>\n",
       "      <th>Clothing ID</th>\n",
       "      <th>Age</th>\n",
       "      <th>Rating</th>\n",
       "      <th>Recommended IND</th>\n",
       "      <th>Positive Feedback Count</th>\n",
       "    </tr>\n",
       "  </thead>\n",
       "  <tbody>\n",
       "    <tr>\n",
       "      <th>count</th>\n",
       "      <td>23486.000000</td>\n",
       "      <td>23486.000000</td>\n",
       "      <td>23486.000000</td>\n",
       "      <td>23486.000000</td>\n",
       "      <td>23486.000000</td>\n",
       "      <td>23486.000000</td>\n",
       "    </tr>\n",
       "    <tr>\n",
       "      <th>mean</th>\n",
       "      <td>11742.500000</td>\n",
       "      <td>918.118709</td>\n",
       "      <td>43.198544</td>\n",
       "      <td>4.196032</td>\n",
       "      <td>0.822362</td>\n",
       "      <td>2.535936</td>\n",
       "    </tr>\n",
       "    <tr>\n",
       "      <th>std</th>\n",
       "      <td>6779.968547</td>\n",
       "      <td>203.298980</td>\n",
       "      <td>12.279544</td>\n",
       "      <td>1.110031</td>\n",
       "      <td>0.382216</td>\n",
       "      <td>5.702202</td>\n",
       "    </tr>\n",
       "    <tr>\n",
       "      <th>min</th>\n",
       "      <td>0.000000</td>\n",
       "      <td>0.000000</td>\n",
       "      <td>18.000000</td>\n",
       "      <td>1.000000</td>\n",
       "      <td>0.000000</td>\n",
       "      <td>0.000000</td>\n",
       "    </tr>\n",
       "    <tr>\n",
       "      <th>25%</th>\n",
       "      <td>5871.250000</td>\n",
       "      <td>861.000000</td>\n",
       "      <td>34.000000</td>\n",
       "      <td>4.000000</td>\n",
       "      <td>1.000000</td>\n",
       "      <td>0.000000</td>\n",
       "    </tr>\n",
       "    <tr>\n",
       "      <th>50%</th>\n",
       "      <td>11742.500000</td>\n",
       "      <td>936.000000</td>\n",
       "      <td>41.000000</td>\n",
       "      <td>5.000000</td>\n",
       "      <td>1.000000</td>\n",
       "      <td>1.000000</td>\n",
       "    </tr>\n",
       "    <tr>\n",
       "      <th>75%</th>\n",
       "      <td>17613.750000</td>\n",
       "      <td>1078.000000</td>\n",
       "      <td>52.000000</td>\n",
       "      <td>5.000000</td>\n",
       "      <td>1.000000</td>\n",
       "      <td>3.000000</td>\n",
       "    </tr>\n",
       "    <tr>\n",
       "      <th>max</th>\n",
       "      <td>23485.000000</td>\n",
       "      <td>1205.000000</td>\n",
       "      <td>99.000000</td>\n",
       "      <td>5.000000</td>\n",
       "      <td>1.000000</td>\n",
       "      <td>122.000000</td>\n",
       "    </tr>\n",
       "  </tbody>\n",
       "</table>\n",
       "</div>"
      ],
      "text/plain": [
       "         Unnamed: 0   Clothing ID           Age        Rating  \\\n",
       "count  23486.000000  23486.000000  23486.000000  23486.000000   \n",
       "mean   11742.500000    918.118709     43.198544      4.196032   \n",
       "std     6779.968547    203.298980     12.279544      1.110031   \n",
       "min        0.000000      0.000000     18.000000      1.000000   \n",
       "25%     5871.250000    861.000000     34.000000      4.000000   \n",
       "50%    11742.500000    936.000000     41.000000      5.000000   \n",
       "75%    17613.750000   1078.000000     52.000000      5.000000   \n",
       "max    23485.000000   1205.000000     99.000000      5.000000   \n",
       "\n",
       "       Recommended IND  Positive Feedback Count  \n",
       "count     23486.000000             23486.000000  \n",
       "mean          0.822362                 2.535936  \n",
       "std           0.382216                 5.702202  \n",
       "min           0.000000                 0.000000  \n",
       "25%           1.000000                 0.000000  \n",
       "50%           1.000000                 1.000000  \n",
       "75%           1.000000                 3.000000  \n",
       "max           1.000000               122.000000  "
      ]
     },
     "execution_count": 66,
     "metadata": {},
     "output_type": "execute_result"
    }
   ],
   "source": [
    "data.describe()"
   ]
  },
  {
   "cell_type": "code",
   "execution_count": 67,
   "id": "eacaad81",
   "metadata": {},
   "outputs": [
    {
     "data": {
      "text/plain": [
       "Unnamed: 0                    0\n",
       "Clothing ID                   0\n",
       "Age                           0\n",
       "Title                      3810\n",
       "Review Text                 845\n",
       "Rating                        0\n",
       "Recommended IND               0\n",
       "Positive Feedback Count       0\n",
       "Division Name                14\n",
       "Department Name              14\n",
       "Class Name                   14\n",
       "dtype: int64"
      ]
     },
     "execution_count": 67,
     "metadata": {},
     "output_type": "execute_result"
    }
   ],
   "source": [
    "data.isnull().sum()"
   ]
  },
  {
   "cell_type": "code",
   "execution_count": 68,
   "id": "03ad5036",
   "metadata": {},
   "outputs": [
    {
     "data": {
      "text/plain": [
       "Clothing ID                   0\n",
       "Age                           0\n",
       "Title                      3810\n",
       "Review Text                 845\n",
       "Rating                        0\n",
       "Recommended IND               0\n",
       "Positive Feedback Count       0\n",
       "Division Name                14\n",
       "Department Name              14\n",
       "Class Name                   14\n",
       "dtype: int64"
      ]
     },
     "execution_count": 68,
     "metadata": {},
     "output_type": "execute_result"
    }
   ],
   "source": [
    "data.drop(data.columns[0],inplace=True, axis=1)\n",
    "data.isnull().sum()"
   ]
  },
  {
   "cell_type": "code",
   "execution_count": 69,
   "id": "82651019",
   "metadata": {},
   "outputs": [],
   "source": [
    "for x in [\"Title\", \"Division Name\", \"Department Name\", \"Class Name\", \"Review Text\"]:\n",
    "    data = data[data[x].notnull()] "
   ]
  },
  {
   "cell_type": "code",
   "execution_count": 70,
   "id": "e7007b96",
   "metadata": {},
   "outputs": [
    {
     "data": {
      "text/plain": [
       "Clothing ID                0\n",
       "Age                        0\n",
       "Title                      0\n",
       "Review Text                0\n",
       "Rating                     0\n",
       "Recommended IND            0\n",
       "Positive Feedback Count    0\n",
       "Division Name              0\n",
       "Department Name            0\n",
       "Class Name                 0\n",
       "dtype: int64"
      ]
     },
     "execution_count": 70,
     "metadata": {},
     "output_type": "execute_result"
    }
   ],
   "source": [
    "data.isnull().sum()"
   ]
  },
  {
   "cell_type": "code",
   "execution_count": 71,
   "id": "d6bdfb24",
   "metadata": {},
   "outputs": [
    {
     "data": {
      "text/plain": [
       "(19662, 10)"
      ]
     },
     "execution_count": 71,
     "metadata": {},
     "output_type": "execute_result"
    }
   ],
   "source": [
    "data.shape"
   ]
  },
  {
   "cell_type": "code",
   "execution_count": 72,
   "id": "a330db94",
   "metadata": {},
   "outputs": [
    {
     "data": {
      "text/html": [
       "<div>\n",
       "<style scoped>\n",
       "    .dataframe tbody tr th:only-of-type {\n",
       "        vertical-align: middle;\n",
       "    }\n",
       "\n",
       "    .dataframe tbody tr th {\n",
       "        vertical-align: top;\n",
       "    }\n",
       "\n",
       "    .dataframe thead th {\n",
       "        text-align: right;\n",
       "    }\n",
       "</style>\n",
       "<table border=\"1\" class=\"dataframe\">\n",
       "  <thead>\n",
       "    <tr style=\"text-align: right;\">\n",
       "      <th></th>\n",
       "      <th>Clothing ID</th>\n",
       "      <th>Age</th>\n",
       "      <th>Title</th>\n",
       "      <th>Review Text</th>\n",
       "      <th>Rating</th>\n",
       "      <th>Recommended IND</th>\n",
       "      <th>Positive Feedback Count</th>\n",
       "      <th>Division Name</th>\n",
       "      <th>Department Name</th>\n",
       "      <th>Class Name</th>\n",
       "    </tr>\n",
       "  </thead>\n",
       "  <tbody>\n",
       "    <tr>\n",
       "      <th>2</th>\n",
       "      <td>1077</td>\n",
       "      <td>60</td>\n",
       "      <td>Some major design flaws</td>\n",
       "      <td>I had such high hopes for this dress and reall...</td>\n",
       "      <td>3</td>\n",
       "      <td>0</td>\n",
       "      <td>0</td>\n",
       "      <td>General</td>\n",
       "      <td>Dresses</td>\n",
       "      <td>Dresses</td>\n",
       "    </tr>\n",
       "    <tr>\n",
       "      <th>3</th>\n",
       "      <td>1049</td>\n",
       "      <td>50</td>\n",
       "      <td>My favorite buy!</td>\n",
       "      <td>I love, love, love this jumpsuit. it's fun, fl...</td>\n",
       "      <td>5</td>\n",
       "      <td>1</td>\n",
       "      <td>0</td>\n",
       "      <td>General Petite</td>\n",
       "      <td>Bottoms</td>\n",
       "      <td>Pants</td>\n",
       "    </tr>\n",
       "    <tr>\n",
       "      <th>4</th>\n",
       "      <td>847</td>\n",
       "      <td>47</td>\n",
       "      <td>Flattering shirt</td>\n",
       "      <td>This shirt is very flattering to all due to th...</td>\n",
       "      <td>5</td>\n",
       "      <td>1</td>\n",
       "      <td>6</td>\n",
       "      <td>General</td>\n",
       "      <td>Tops</td>\n",
       "      <td>Blouses</td>\n",
       "    </tr>\n",
       "    <tr>\n",
       "      <th>5</th>\n",
       "      <td>1080</td>\n",
       "      <td>49</td>\n",
       "      <td>Not for the very petite</td>\n",
       "      <td>I love tracy reese dresses, but this one is no...</td>\n",
       "      <td>2</td>\n",
       "      <td>0</td>\n",
       "      <td>4</td>\n",
       "      <td>General</td>\n",
       "      <td>Dresses</td>\n",
       "      <td>Dresses</td>\n",
       "    </tr>\n",
       "    <tr>\n",
       "      <th>6</th>\n",
       "      <td>858</td>\n",
       "      <td>39</td>\n",
       "      <td>Cagrcoal shimmer fun</td>\n",
       "      <td>I aded this in my basket at hte last mintue to...</td>\n",
       "      <td>5</td>\n",
       "      <td>1</td>\n",
       "      <td>1</td>\n",
       "      <td>General Petite</td>\n",
       "      <td>Tops</td>\n",
       "      <td>Knits</td>\n",
       "    </tr>\n",
       "  </tbody>\n",
       "</table>\n",
       "</div>"
      ],
      "text/plain": [
       "   Clothing ID  Age                    Title  \\\n",
       "2         1077   60  Some major design flaws   \n",
       "3         1049   50         My favorite buy!   \n",
       "4          847   47         Flattering shirt   \n",
       "5         1080   49  Not for the very petite   \n",
       "6          858   39     Cagrcoal shimmer fun   \n",
       "\n",
       "                                         Review Text  Rating  Recommended IND  \\\n",
       "2  I had such high hopes for this dress and reall...       3                0   \n",
       "3  I love, love, love this jumpsuit. it's fun, fl...       5                1   \n",
       "4  This shirt is very flattering to all due to th...       5                1   \n",
       "5  I love tracy reese dresses, but this one is no...       2                0   \n",
       "6  I aded this in my basket at hte last mintue to...       5                1   \n",
       "\n",
       "   Positive Feedback Count   Division Name Department Name Class Name  \n",
       "2                        0         General         Dresses    Dresses  \n",
       "3                        0  General Petite         Bottoms      Pants  \n",
       "4                        6         General            Tops    Blouses  \n",
       "5                        4         General         Dresses    Dresses  \n",
       "6                        1  General Petite            Tops      Knits  "
      ]
     },
     "execution_count": 72,
     "metadata": {},
     "output_type": "execute_result"
    }
   ],
   "source": [
    "data.head()"
   ]
  },
  {
   "cell_type": "code",
   "execution_count": 73,
   "id": "300a829b",
   "metadata": {},
   "outputs": [
    {
     "data": {
      "text/html": [
       "<div>\n",
       "<style scoped>\n",
       "    .dataframe tbody tr th:only-of-type {\n",
       "        vertical-align: middle;\n",
       "    }\n",
       "\n",
       "    .dataframe tbody tr th {\n",
       "        vertical-align: top;\n",
       "    }\n",
       "\n",
       "    .dataframe thead th {\n",
       "        text-align: right;\n",
       "    }\n",
       "</style>\n",
       "<table border=\"1\" class=\"dataframe\">\n",
       "  <thead>\n",
       "    <tr style=\"text-align: right;\">\n",
       "      <th></th>\n",
       "      <th>Clothing ID</th>\n",
       "      <th>Age</th>\n",
       "      <th>Rating</th>\n",
       "      <th>Recommended IND</th>\n",
       "      <th>Positive Feedback Count</th>\n",
       "    </tr>\n",
       "  </thead>\n",
       "  <tbody>\n",
       "    <tr>\n",
       "      <th>count</th>\n",
       "      <td>19662.000000</td>\n",
       "      <td>19662.000000</td>\n",
       "      <td>19662.000000</td>\n",
       "      <td>19662.000000</td>\n",
       "      <td>19662.000000</td>\n",
       "    </tr>\n",
       "    <tr>\n",
       "      <th>mean</th>\n",
       "      <td>921.297274</td>\n",
       "      <td>43.260808</td>\n",
       "      <td>4.183145</td>\n",
       "      <td>0.818177</td>\n",
       "      <td>2.652477</td>\n",
       "    </tr>\n",
       "    <tr>\n",
       "      <th>std</th>\n",
       "      <td>200.227528</td>\n",
       "      <td>12.258122</td>\n",
       "      <td>1.112224</td>\n",
       "      <td>0.385708</td>\n",
       "      <td>5.834285</td>\n",
       "    </tr>\n",
       "    <tr>\n",
       "      <th>min</th>\n",
       "      <td>1.000000</td>\n",
       "      <td>18.000000</td>\n",
       "      <td>1.000000</td>\n",
       "      <td>0.000000</td>\n",
       "      <td>0.000000</td>\n",
       "    </tr>\n",
       "    <tr>\n",
       "      <th>25%</th>\n",
       "      <td>861.000000</td>\n",
       "      <td>34.000000</td>\n",
       "      <td>4.000000</td>\n",
       "      <td>1.000000</td>\n",
       "      <td>0.000000</td>\n",
       "    </tr>\n",
       "    <tr>\n",
       "      <th>50%</th>\n",
       "      <td>936.000000</td>\n",
       "      <td>41.000000</td>\n",
       "      <td>5.000000</td>\n",
       "      <td>1.000000</td>\n",
       "      <td>1.000000</td>\n",
       "    </tr>\n",
       "    <tr>\n",
       "      <th>75%</th>\n",
       "      <td>1078.000000</td>\n",
       "      <td>52.000000</td>\n",
       "      <td>5.000000</td>\n",
       "      <td>1.000000</td>\n",
       "      <td>3.000000</td>\n",
       "    </tr>\n",
       "    <tr>\n",
       "      <th>max</th>\n",
       "      <td>1205.000000</td>\n",
       "      <td>99.000000</td>\n",
       "      <td>5.000000</td>\n",
       "      <td>1.000000</td>\n",
       "      <td>122.000000</td>\n",
       "    </tr>\n",
       "  </tbody>\n",
       "</table>\n",
       "</div>"
      ],
      "text/plain": [
       "        Clothing ID           Age        Rating  Recommended IND  \\\n",
       "count  19662.000000  19662.000000  19662.000000     19662.000000   \n",
       "mean     921.297274     43.260808      4.183145         0.818177   \n",
       "std      200.227528     12.258122      1.112224         0.385708   \n",
       "min        1.000000     18.000000      1.000000         0.000000   \n",
       "25%      861.000000     34.000000      4.000000         1.000000   \n",
       "50%      936.000000     41.000000      5.000000         1.000000   \n",
       "75%     1078.000000     52.000000      5.000000         1.000000   \n",
       "max     1205.000000     99.000000      5.000000         1.000000   \n",
       "\n",
       "       Positive Feedback Count  \n",
       "count             19662.000000  \n",
       "mean                  2.652477  \n",
       "std                   5.834285  \n",
       "min                   0.000000  \n",
       "25%                   0.000000  \n",
       "50%                   1.000000  \n",
       "75%                   3.000000  \n",
       "max                 122.000000  "
      ]
     },
     "execution_count": 73,
     "metadata": {},
     "output_type": "execute_result"
    }
   ],
   "source": [
    "data.describe()"
   ]
  },
  {
   "cell_type": "code",
   "execution_count": 74,
   "id": "2c019bea",
   "metadata": {},
   "outputs": [
    {
     "data": {
      "text/html": [
       "<div>\n",
       "<style scoped>\n",
       "    .dataframe tbody tr th:only-of-type {\n",
       "        vertical-align: middle;\n",
       "    }\n",
       "\n",
       "    .dataframe tbody tr th {\n",
       "        vertical-align: top;\n",
       "    }\n",
       "\n",
       "    .dataframe thead th {\n",
       "        text-align: right;\n",
       "    }\n",
       "</style>\n",
       "<table border=\"1\" class=\"dataframe\">\n",
       "  <thead>\n",
       "    <tr style=\"text-align: right;\">\n",
       "      <th></th>\n",
       "      <th>mean</th>\n",
       "      <th>std</th>\n",
       "      <th>min</th>\n",
       "      <th>25%</th>\n",
       "      <th>50%</th>\n",
       "      <th>75%</th>\n",
       "      <th>max</th>\n",
       "    </tr>\n",
       "  </thead>\n",
       "  <tbody>\n",
       "    <tr>\n",
       "      <th>Clothing ID</th>\n",
       "      <td>921.297274</td>\n",
       "      <td>200.227528</td>\n",
       "      <td>1.0</td>\n",
       "      <td>861.0</td>\n",
       "      <td>936.0</td>\n",
       "      <td>1078.0</td>\n",
       "      <td>1205.0</td>\n",
       "    </tr>\n",
       "    <tr>\n",
       "      <th>Age</th>\n",
       "      <td>43.260808</td>\n",
       "      <td>12.258122</td>\n",
       "      <td>18.0</td>\n",
       "      <td>34.0</td>\n",
       "      <td>41.0</td>\n",
       "      <td>52.0</td>\n",
       "      <td>99.0</td>\n",
       "    </tr>\n",
       "    <tr>\n",
       "      <th>Rating</th>\n",
       "      <td>4.183145</td>\n",
       "      <td>1.112224</td>\n",
       "      <td>1.0</td>\n",
       "      <td>4.0</td>\n",
       "      <td>5.0</td>\n",
       "      <td>5.0</td>\n",
       "      <td>5.0</td>\n",
       "    </tr>\n",
       "    <tr>\n",
       "      <th>Recommended IND</th>\n",
       "      <td>0.818177</td>\n",
       "      <td>0.385708</td>\n",
       "      <td>0.0</td>\n",
       "      <td>1.0</td>\n",
       "      <td>1.0</td>\n",
       "      <td>1.0</td>\n",
       "      <td>1.0</td>\n",
       "    </tr>\n",
       "    <tr>\n",
       "      <th>Positive Feedback Count</th>\n",
       "      <td>2.652477</td>\n",
       "      <td>5.834285</td>\n",
       "      <td>0.0</td>\n",
       "      <td>0.0</td>\n",
       "      <td>1.0</td>\n",
       "      <td>3.0</td>\n",
       "      <td>122.0</td>\n",
       "    </tr>\n",
       "  </tbody>\n",
       "</table>\n",
       "</div>"
      ],
      "text/plain": [
       "                               mean         std   min    25%    50%     75%  \\\n",
       "Clothing ID              921.297274  200.227528   1.0  861.0  936.0  1078.0   \n",
       "Age                       43.260808   12.258122  18.0   34.0   41.0    52.0   \n",
       "Rating                     4.183145    1.112224   1.0    4.0    5.0     5.0   \n",
       "Recommended IND            0.818177    0.385708   0.0    1.0    1.0     1.0   \n",
       "Positive Feedback Count    2.652477    5.834285   0.0    0.0    1.0     3.0   \n",
       "\n",
       "                            max  \n",
       "Clothing ID              1205.0  \n",
       "Age                        99.0  \n",
       "Rating                      5.0  \n",
       "Recommended IND             1.0  \n",
       "Positive Feedback Count   122.0  "
      ]
     },
     "execution_count": 74,
     "metadata": {},
     "output_type": "execute_result"
    }
   ],
   "source": [
    "data.describe().T.drop('count',axis=1)"
   ]
  },
  {
   "cell_type": "code",
   "execution_count": 75,
   "id": "8d1a335a",
   "metadata": {},
   "outputs": [
    {
     "data": {
      "text/plain": [
       "array([1077, 1049,  847, ...,  721,  262,  522])"
      ]
     },
     "execution_count": 75,
     "metadata": {},
     "output_type": "execute_result"
    }
   ],
   "source": [
    "data['Clothing ID'].unique()"
   ]
  },
  {
   "cell_type": "code",
   "execution_count": 76,
   "id": "8676f479",
   "metadata": {},
   "outputs": [
    {
     "data": {
      "text/plain": [
       "1078    871\n",
       "862     658\n",
       "1094    651\n",
       "1081    487\n",
       "829     452\n",
       "       ... \n",
       "201       1\n",
       "1200      1\n",
       "525       1\n",
       "1127      1\n",
       "522       1\n",
       "Name: Clothing ID, Length: 1095, dtype: int64"
      ]
     },
     "execution_count": 76,
     "metadata": {},
     "output_type": "execute_result"
    }
   ],
   "source": [
    "data['Clothing ID'].value_counts()"
   ]
  },
  {
   "cell_type": "code",
   "execution_count": 77,
   "id": "3ce5c0e3",
   "metadata": {},
   "outputs": [],
   "source": [
    "data = data[['Clothing ID', 'Title', 'Review Text','Rating']]"
   ]
  },
  {
   "cell_type": "code",
   "execution_count": 18,
   "id": "81b0e25d",
   "metadata": {},
   "outputs": [],
   "source": [
    "data = data.dropna(subset=['Review Text'])"
   ]
  },
  {
   "cell_type": "code",
   "execution_count": 19,
   "id": "897935ff",
   "metadata": {},
   "outputs": [],
   "source": [
    "tfidf = TfidfVectorizer(stop_words='english')\n",
    "tfidf_matrix = tfidf.fit_transform(data['Review Text'])"
   ]
  },
  {
   "cell_type": "code",
   "execution_count": 20,
   "id": "b03ce3ab",
   "metadata": {},
   "outputs": [],
   "source": [
    "cosine_similarities = linear_kernel(tfidf_matrix, tfidf_matrix)"
   ]
  },
  {
   "cell_type": "code",
   "execution_count": 78,
   "id": "4dd34b93",
   "metadata": {},
   "outputs": [],
   "source": [
    "def recommend_items(item_id, cosine_similarities=cosine_similarities, data=data, top_n=5):\n",
    "    indices = pd.Series(data.index, index=data['Clothing ID']).drop_duplicates()\n",
    "    idx = indices[item_id]\n",
    "    similarity_scores = list(enumerate(cosine_similarities[idx]))\n",
    "    similarity_scores = sorted(similarity_scores, key=lambda x: x[1], reverse=True)\n",
    "    top_items_indices = [i[0] for i in similarity_scores[1:top_n+1]]\n",
    "    return data.iloc[top_items_indices]"
   ]
  },
  {
   "cell_type": "code",
   "execution_count": null,
   "id": "d59c07f8",
   "metadata": {},
   "outputs": [],
   "source": []
  },
  {
   "cell_type": "code",
   "execution_count": null,
   "id": "ff6dfc5b",
   "metadata": {},
   "outputs": [],
   "source": []
  },
  {
   "cell_type": "code",
   "execution_count": null,
   "id": "745132d6",
   "metadata": {},
   "outputs": [],
   "source": []
  },
  {
   "cell_type": "code",
   "execution_count": null,
   "id": "3353ed62",
   "metadata": {},
   "outputs": [],
   "source": []
  },
  {
   "cell_type": "code",
   "execution_count": 89,
   "id": "434a8401",
   "metadata": {},
   "outputs": [],
   "source": [
    "data = data[['Clothing ID', 'Title', 'Review Text']]\n",
    "data = data.dropna(subset=['Review Text'])\n",
    "tfidf = TfidfVectorizer(stop_words='english')\n",
    "tfidf_matrix = tfidf.fit_transform(data['Review Text'])\n",
    "cosine_similarities = linear_kernel(tfidf_matrix, tfidf_matrix)\n",
    "\n",
    "def calculate_accuracy(item_id, cosine_similarities=cosine_similarities, data=data, top_n=5, ground_truth=None):\n",
    "    indices = pd.Series(data.index, index=data['Clothing ID']).drop_duplicates()\n",
    "    idx = indices[item_id]\n",
    "    similarity_scores = list(enumerate(cosine_similarities[idx]))\n",
    "    similarity_scores = sorted(similarity_scores, key=lambda x: x[1], reverse=True)\n",
    "    top_items_indices = [i[0] for i in similarity_scores[1:top_n+1]]\n",
    "    recommended_items = data.iloc[top_items_indices]['Clothing ID'].tolist()\n"
   ]
  },
  {
   "cell_type": "code",
   "execution_count": 95,
   "id": "004e05e3",
   "metadata": {},
   "outputs": [
    {
     "name": "stdout",
     "output_type": "stream",
     "text": [
      "       Clothing ID                 Title  \\\n",
      "3747          1080          Great dress!   \n",
      "5553          1081      Beautiful color!   \n",
      "14390         1158           Doesn't fit   \n",
      "13134         1094  Cute and comfortable   \n",
      "13823         1078                  Love   \n",
      "\n",
      "                                             Review Text  Rating  \n",
      "3747   Just received my dress today and i am pleased ...       5  \n",
      "5553   This dress is happy! it is easy to wear and it...       4  \n",
      "14390  Fun, sexy underwear but rides up in the front....       2  \n",
      "13134  This dress is easy to dress up or down, and is...       5  \n",
      "13823                      Love this dress and the color       5  \n"
     ]
    }
   ],
   "source": [
    "item_id = 1200  # Example item ID\n",
    "recommended_items = recommend_items(item_id)\n",
    "print(recommended_items)"
   ]
  },
  {
   "cell_type": "code",
   "execution_count": 87,
   "id": "7c489907",
   "metadata": {},
   "outputs": [
    {
     "name": "stdout",
     "output_type": "stream",
     "text": [
      "MAP Score: 0.0\n",
      "       Clothing ID                                              Title  \\\n",
      "1285           979                                 Cozy amazingness!!   \n",
      "20625         1112                                Amazing soft jacket   \n",
      "2573           864                                         So pretty!   \n",
      "20747         1037                                        Really nice   \n",
      "20940          961  This vest will work in the warmer winter in texas   \n",
      "\n",
      "                                             Review Text  Rating  \n",
      "1285   This beauty arrived in my store today...and de...       5  \n",
      "20625  This jacket is so adorable on! i have no idea ...       5  \n",
      "2573   I bought this in blue and can't wait to wear i...       5  \n",
      "20747  I have been looking for leather or faux leathe...       5  \n",
      "20940  The sherpa vest i received from retailer was t...       5  \n"
     ]
    }
   ],
   "source": [
    "def calculate_accuracy(item_id, cosine_similarities=cosine_similarities, data=data, top_n=5, ground_truth=None):\n",
    "    recommended_items = recommend_items(item_id, cosine_similarities, data, top_n)\n",
    "    relevant_items = ground_truth[item_id]  # List of relevant items for the given item ID\n",
    "\n",
    "    precision = 0.0\n",
    "    num_relevant_items = len(relevant_items)\n",
    "    num_correct_predictions = 0\n",
    "\n",
    "    for i in range(len(recommended_items)):\n",
    "        if recommended_items['Clothing ID'].iloc[i] in relevant_items:\n",
    "            num_correct_predictions += 1\n",
    "            precision += num_correct_predictions / (i + 1)\n",
    "\n",
    "    if num_relevant_items > 0:\n",
    "        precision /= num_relevant_items\n",
    "\n",
    "    return precision\n",
    "\n",
    "# Example ground truth data with ratings\n",
    "ground_truth_data = {\n",
    "    22: [5, 4, 5]  # Example ratings for item ID 22\n",
    "}\n",
    "\n",
    "item_id = 22  # Example item ID\n",
    "map_score = calculate_accuracy(item_id, cosine_similarities, data, top_n=5, ground_truth=ground_truth_data)\n",
    "print(\"MAP Score:\", map_score)\n",
    "item_id = 22  # Example item ID\n",
    "recommended_items = recommend_items(item_id)\n",
    "print(recommended_items)"
   ]
  },
  {
   "cell_type": "code",
   "execution_count": 83,
   "id": "27981fec",
   "metadata": {},
   "outputs": [],
   "source": [
    "ground_truth_data = {\n",
    "    22: [5, 5, 5]  # Example ratings for item ID 22\n",
    "}"
   ]
  },
  {
   "cell_type": "code",
   "execution_count": 84,
   "id": "8e1a814b",
   "metadata": {},
   "outputs": [
    {
     "name": "stdout",
     "output_type": "stream",
     "text": [
      "Precision: 0.0\n",
      "Recall: 0.0\n"
     ]
    }
   ],
   "source": [
    "item_id = 22  # Example item ID\n",
    "precision, recall = calculate_accuracy(item_id, cosine_similarities, data, top_n=5)\n",
    "print(\"Precision:\", precision)\n",
    "print(\"Recall:\", recall)"
   ]
  },
  {
   "cell_type": "code",
   "execution_count": 85,
   "id": "100898eb",
   "metadata": {},
   "outputs": [
    {
     "name": "stdout",
     "output_type": "stream",
     "text": [
      "MAP Score: 0.0\n"
     ]
    }
   ],
   "source": []
  },
  {
   "cell_type": "code",
   "execution_count": 25,
   "id": "db447aa9",
   "metadata": {},
   "outputs": [
    {
     "name": "stdout",
     "output_type": "stream",
     "text": [
      "       Clothing ID                                              Title  \\\n",
      "1285           979                                 Cozy amazingness!!   \n",
      "20625         1112                                Amazing soft jacket   \n",
      "2573           864                                         So pretty!   \n",
      "20747         1037                                        Really nice   \n",
      "20940          961  This vest will work in the warmer winter in texas   \n",
      "\n",
      "                                             Review Text  \n",
      "1285   This beauty arrived in my store today...and de...  \n",
      "20625  This jacket is so adorable on! i have no idea ...  \n",
      "2573   I bought this in blue and can't wait to wear i...  \n",
      "20747  I have been looking for leather or faux leathe...  \n",
      "20940  The sherpa vest i received from retailer was t...  \n"
     ]
    }
   ],
   "source": [
    "data = data[['Clothing ID', 'Title', 'Review Text']]\n",
    "data = data.dropna(subset=['Review Text'])\n",
    "tfidf = TfidfVectorizer(stop_words='english')\n",
    "tfidf_matrix = tfidf.fit_transform(data['Review Text'])\n",
    "cosine_similarities = linear_kernel(tfidf_matrix, tfidf_matrix)\n",
    "def recommend_items(item_id, cosine_similarities=cosine_similarities, data=data, top_n=5):\n",
    "    indices = pd.Series(data.index, index=data['Clothing ID']).drop_duplicates()\n",
    "    idx = indices[item_id]\n",
    "    similarity_scores = list(enumerate(cosine_similarities[idx]))\n",
    "    similarity_scores = sorted(similarity_scores, key=lambda x: x[1], reverse=True)\n",
    "    top_items_indices = [i[0] for i in similarity_scores[1:top_n+1]]\n",
    "    return data.iloc[top_items_indices]\n",
    "item_id = 22  # Example item ID\n",
    "recommended_items = recommend_items(item_id)\n",
    "print(recommended_items)"
   ]
  },
  {
   "cell_type": "code",
   "execution_count": 26,
   "id": "a2276b6e",
   "metadata": {},
   "outputs": [
    {
     "name": "stdout",
     "output_type": "stream",
     "text": [
      "       Clothing ID                                              Title  \\\n",
      "1285           979                                 Cozy amazingness!!   \n",
      "20625         1112                                Amazing soft jacket   \n",
      "2573           864                                         So pretty!   \n",
      "20747         1037                                        Really nice   \n",
      "20940          961  This vest will work in the warmer winter in texas   \n",
      "\n",
      "                                             Review Text  \n",
      "1285   This beauty arrived in my store today...and de...  \n",
      "20625  This jacket is so adorable on! i have no idea ...  \n",
      "2573   I bought this in blue and can't wait to wear i...  \n",
      "20747  I have been looking for leather or faux leathe...  \n",
      "20940  The sherpa vest i received from retailer was t...  \n"
     ]
    }
   ],
   "source": [
    "item_id = 22  # Example item ID\n",
    "recommended_items = recommend_items(item_id)\n",
    "print(recommended_items)"
   ]
  },
  {
   "cell_type": "code",
   "execution_count": 96,
   "id": "62f59aaa",
   "metadata": {},
   "outputs": [
    {
     "name": "stdout",
     "output_type": "stream",
     "text": [
      "Precision at 3 : 1.0\n",
      "Recall at 3 : 0.6\n",
      "Mean Average Precision (MAP): 0.6\n"
     ]
    }
   ],
   "source": [
    "def precision_at_k(actual, predicted, k):\n",
    "    # Take only the top k predicted items\n",
    "    predicted_k = predicted[:k]\n",
    "    \n",
    "    # Count the number of correctly recommended items\n",
    "    correct_items = set(actual) & set(predicted_k)\n",
    "    \n",
    "    # Calculate precision at k\n",
    "    precision = len(correct_items) / k\n",
    "    return precision\n",
    "\n",
    "def recall_at_k(actual, predicted, k):\n",
    "    # Take only the top k predicted items\n",
    "    predicted_k = predicted[:k]\n",
    "    \n",
    "    # Count the number of correctly recommended items\n",
    "    correct_items = set(actual) & set(predicted_k)\n",
    "    \n",
    "    # Calculate recall at k\n",
    "    recall = len(correct_items) / len(actual)\n",
    "    return recall\n",
    "\n",
    "def average_precision(actual, predicted):\n",
    "    # Calculate precision at each position\n",
    "    precision = []\n",
    "    num_correct = 0\n",
    "    for i, item in enumerate(predicted):\n",
    "        if item in actual:\n",
    "            num_correct += 1\n",
    "            precision.append(num_correct / (i + 1))\n",
    "    \n",
    "    # Calculate mean average precision\n",
    "    if len(precision) == 0:\n",
    "        return 0\n",
    "    else:\n",
    "        return sum(precision) / len(actual)\n",
    "\n",
    "# Example ground truth and predicted recommendations\n",
    "ground_truth = [1, 2, 3, 4, 5]\n",
    "predicted_recommendations = [3, 4, 5, 6, 7]\n",
    "\n",
    "# Calculate precision at k\n",
    "k = 3\n",
    "precision = precision_at_k(ground_truth, predicted_recommendations, k)\n",
    "print(\"Precision at\", k, \":\", precision)\n",
    "\n",
    "# Calculate recall at k\n",
    "recall = recall_at_k(ground_truth, predicted_recommendations, k)\n",
    "print(\"Recall at\", k, \":\", recall)\n",
    "\n",
    "# Calculate mean average precision\n",
    "map_score = average_precision(ground_truth, predicted_recommendations)\n",
    "print(\"Mean Average Precision (MAP):\", map_score)\n"
   ]
  },
  {
   "cell_type": "code",
   "execution_count": 34,
   "id": "114301ab",
   "metadata": {},
   "outputs": [],
   "source": [
    "data['Sentiment'] = data['Review Text'].apply(lambda x: TextBlob(x).sentiment.polarity)"
   ]
  },
  {
   "cell_type": "code",
   "execution_count": 35,
   "id": "0935a914",
   "metadata": {},
   "outputs": [],
   "source": [
    "def get_sentiment_label(score):\n",
    "    if score > 0:\n",
    "        return 'Positive'\n",
    "    elif score < 0:\n",
    "        return 'Negative'\n",
    "    else:\n",
    "        return 'Neutral'"
   ]
  },
  {
   "cell_type": "code",
   "execution_count": 36,
   "id": "98452547",
   "metadata": {},
   "outputs": [],
   "source": [
    "data['Sentiment Label'] = data['Sentiment'].apply(get_sentiment_label)"
   ]
  },
  {
   "cell_type": "code",
   "execution_count": 37,
   "id": "fa61d02a",
   "metadata": {},
   "outputs": [
    {
     "name": "stdout",
     "output_type": "stream",
     "text": [
      "Positive    18443\n",
      "Negative     1141\n",
      "Neutral        78\n",
      "Name: Sentiment Label, dtype: int64\n"
     ]
    }
   ],
   "source": [
    "sentiment_counts = data['Sentiment Label'].value_counts()\n",
    "print(sentiment_counts)"
   ]
  },
  {
   "cell_type": "code",
   "execution_count": 38,
   "id": "3cdd39ff",
   "metadata": {},
   "outputs": [],
   "source": [
    "def get_sentiment_polarity(text):\n",
    "    return TextBlob(text).sentiment.polarity"
   ]
  },
  {
   "cell_type": "code",
   "execution_count": 39,
   "id": "d9aa0e50",
   "metadata": {},
   "outputs": [],
   "source": [
    "data['Sentiment Polarity'] = data['Review Text'].apply(get_sentiment_polarity)"
   ]
  },
  {
   "cell_type": "code",
   "execution_count": 40,
   "id": "14e7c2ba",
   "metadata": {},
   "outputs": [],
   "source": [
    "sentiment_by_clothing = data.groupby('Clothing ID')['Sentiment Polarity'].mean().reset_index()"
   ]
  },
  {
   "cell_type": "code",
   "execution_count": 41,
   "id": "a00ef147",
   "metadata": {},
   "outputs": [
    {
     "name": "stdout",
     "output_type": "stream",
     "text": [
      "      Clothing ID  Sentiment Polarity\n",
      "0               1            0.358650\n",
      "1               2           -0.145525\n",
      "2               4            0.282917\n",
      "3               5            0.445833\n",
      "4               7            0.214286\n",
      "...           ...                 ...\n",
      "1090         1200           -0.078704\n",
      "1091         1202            0.270126\n",
      "1092         1203            0.320286\n",
      "1093         1204            0.226397\n",
      "1094         1205            0.368519\n",
      "\n",
      "[1095 rows x 2 columns]\n"
     ]
    }
   ],
   "source": [
    "print(sentiment_by_clothing)"
   ]
  },
  {
   "cell_type": "code",
   "execution_count": 44,
   "id": "2345e836",
   "metadata": {},
   "outputs": [],
   "source": [
    "import nltk"
   ]
  },
  {
   "cell_type": "code",
   "execution_count": 45,
   "id": "4755e90a",
   "metadata": {},
   "outputs": [
    {
     "name": "stderr",
     "output_type": "stream",
     "text": [
      "[nltk_data] Downloading package vader_lexicon to\n",
      "[nltk_data]     /Users/faizanarshad/nltk_data...\n"
     ]
    },
    {
     "data": {
      "text/plain": [
       "True"
      ]
     },
     "execution_count": 45,
     "metadata": {},
     "output_type": "execute_result"
    }
   ],
   "source": [
    "nltk.download('vader_lexicon')"
   ]
  },
  {
   "cell_type": "code",
   "execution_count": 46,
   "id": "b85304fb",
   "metadata": {},
   "outputs": [],
   "source": [
    "from nltk.sentiment.vader import SentimentIntensityAnalyzer\n",
    "\n",
    "# Initialize the SentimentIntensityAnalyzer\n",
    "sia = SentimentIntensityAnalyzer()\n",
    "\n",
    "# Perform sentiment analysis and add subjectivity and polarity indices\n",
    "data['Sentiment'] = data['Review Text'].apply(lambda x: sia.polarity_scores(x))\n",
    "data['Polarity'] = data['Sentiment'].apply(lambda x: x['compound'])\n",
    "data['Subjectivity'] = data['Sentiment'].apply(lambda x: 1 if x['compound'] >= 0 else 0)\n",
    "\n",
    "# Save the updated DataFrame to the file\n",
    "data.to_csv('updated_data.csv', index=False)"
   ]
  },
  {
   "cell_type": "code",
   "execution_count": 47,
   "id": "0efec193",
   "metadata": {},
   "outputs": [],
   "source": [
    "data_1 = pd.read_csv('updated_data.csv')"
   ]
  },
  {
   "cell_type": "code",
   "execution_count": 99,
   "id": "a81db99b",
   "metadata": {},
   "outputs": [
    {
     "data": {
      "text/html": [
       "<div>\n",
       "<style scoped>\n",
       "    .dataframe tbody tr th:only-of-type {\n",
       "        vertical-align: middle;\n",
       "    }\n",
       "\n",
       "    .dataframe tbody tr th {\n",
       "        vertical-align: top;\n",
       "    }\n",
       "\n",
       "    .dataframe thead th {\n",
       "        text-align: right;\n",
       "    }\n",
       "</style>\n",
       "<table border=\"1\" class=\"dataframe\">\n",
       "  <thead>\n",
       "    <tr style=\"text-align: right;\">\n",
       "      <th></th>\n",
       "      <th>Clothing ID</th>\n",
       "      <th>Title</th>\n",
       "      <th>Review Text</th>\n",
       "      <th>Sentiment</th>\n",
       "      <th>Sentiment Label</th>\n",
       "      <th>Sentiment Polarity</th>\n",
       "      <th>Polarity</th>\n",
       "      <th>Subjectivity</th>\n",
       "    </tr>\n",
       "  </thead>\n",
       "  <tbody>\n",
       "    <tr>\n",
       "      <th>0</th>\n",
       "      <td>1077</td>\n",
       "      <td>Some major design flaws</td>\n",
       "      <td>I had such high hopes for this dress and reall...</td>\n",
       "      <td>{'neg': 0.027, 'neu': 0.792, 'pos': 0.181, 'co...</td>\n",
       "      <td>Positive</td>\n",
       "      <td>0.073675</td>\n",
       "      <td>0.9427</td>\n",
       "      <td>1</td>\n",
       "    </tr>\n",
       "    <tr>\n",
       "      <th>1</th>\n",
       "      <td>1049</td>\n",
       "      <td>My favorite buy!</td>\n",
       "      <td>I love, love, love this jumpsuit. it's fun, fl...</td>\n",
       "      <td>{'neg': 0.226, 'neu': 0.34, 'pos': 0.434, 'com...</td>\n",
       "      <td>Positive</td>\n",
       "      <td>0.550000</td>\n",
       "      <td>0.5727</td>\n",
       "      <td>1</td>\n",
       "    </tr>\n",
       "    <tr>\n",
       "      <th>2</th>\n",
       "      <td>847</td>\n",
       "      <td>Flattering shirt</td>\n",
       "      <td>This shirt is very flattering to all due to th...</td>\n",
       "      <td>{'neg': 0.0, 'neu': 0.7, 'pos': 0.3, 'compound...</td>\n",
       "      <td>Positive</td>\n",
       "      <td>0.512891</td>\n",
       "      <td>0.9291</td>\n",
       "      <td>1</td>\n",
       "    </tr>\n",
       "    <tr>\n",
       "      <th>3</th>\n",
       "      <td>1080</td>\n",
       "      <td>Not for the very petite</td>\n",
       "      <td>I love tracy reese dresses, but this one is no...</td>\n",
       "      <td>{'neg': 0.0, 'neu': 0.853, 'pos': 0.147, 'comp...</td>\n",
       "      <td>Positive</td>\n",
       "      <td>0.178750</td>\n",
       "      <td>0.9419</td>\n",
       "      <td>1</td>\n",
       "    </tr>\n",
       "    <tr>\n",
       "      <th>4</th>\n",
       "      <td>858</td>\n",
       "      <td>Cagrcoal shimmer fun</td>\n",
       "      <td>I aded this in my basket at hte last mintue to...</td>\n",
       "      <td>{'neg': 0.023, 'neu': 0.881, 'pos': 0.096, 'co...</td>\n",
       "      <td>Positive</td>\n",
       "      <td>0.133750</td>\n",
       "      <td>0.8004</td>\n",
       "      <td>1</td>\n",
       "    </tr>\n",
       "    <tr>\n",
       "      <th>5</th>\n",
       "      <td>858</td>\n",
       "      <td>Shimmer, surprisingly goes with lots</td>\n",
       "      <td>I ordered this in carbon for store pick up, an...</td>\n",
       "      <td>{'neg': 0.046, 'neu': 0.901, 'pos': 0.053, 'co...</td>\n",
       "      <td>Positive</td>\n",
       "      <td>0.171635</td>\n",
       "      <td>-0.0909</td>\n",
       "      <td>0</td>\n",
       "    </tr>\n",
       "    <tr>\n",
       "      <th>6</th>\n",
       "      <td>1077</td>\n",
       "      <td>Flattering</td>\n",
       "      <td>I love this dress. i usually get an xs but it ...</td>\n",
       "      <td>{'neg': 0.0, 'neu': 0.818, 'pos': 0.182, 'comp...</td>\n",
       "      <td>Positive</td>\n",
       "      <td>0.002500</td>\n",
       "      <td>0.7175</td>\n",
       "      <td>1</td>\n",
       "    </tr>\n",
       "    <tr>\n",
       "      <th>7</th>\n",
       "      <td>1077</td>\n",
       "      <td>Such a fun dress!</td>\n",
       "      <td>I'm 5\"5' and 125 lbs. i ordered the s petite t...</td>\n",
       "      <td>{'neg': 0.12, 'neu': 0.753, 'pos': 0.126, 'com...</td>\n",
       "      <td>Positive</td>\n",
       "      <td>0.204200</td>\n",
       "      <td>-0.3724</td>\n",
       "      <td>0</td>\n",
       "    </tr>\n",
       "    <tr>\n",
       "      <th>8</th>\n",
       "      <td>1077</td>\n",
       "      <td>Dress looks like it's made of cheap material</td>\n",
       "      <td>Dress runs small esp where the zipper area run...</td>\n",
       "      <td>{'neg': 0.044, 'neu': 0.877, 'pos': 0.079, 'co...</td>\n",
       "      <td>Negative</td>\n",
       "      <td>-0.097149</td>\n",
       "      <td>0.3578</td>\n",
       "      <td>1</td>\n",
       "    </tr>\n",
       "    <tr>\n",
       "      <th>9</th>\n",
       "      <td>1095</td>\n",
       "      <td>Perfect!!!</td>\n",
       "      <td>More and more i find myself reliant on the rev...</td>\n",
       "      <td>{'neg': 0.026, 'neu': 0.899, 'pos': 0.075, 'co...</td>\n",
       "      <td>Positive</td>\n",
       "      <td>0.244156</td>\n",
       "      <td>0.5520</td>\n",
       "      <td>1</td>\n",
       "    </tr>\n",
       "  </tbody>\n",
       "</table>\n",
       "</div>"
      ],
      "text/plain": [
       "   Clothing ID                                         Title  \\\n",
       "0         1077                       Some major design flaws   \n",
       "1         1049                              My favorite buy!   \n",
       "2          847                              Flattering shirt   \n",
       "3         1080                       Not for the very petite   \n",
       "4          858                          Cagrcoal shimmer fun   \n",
       "5          858          Shimmer, surprisingly goes with lots   \n",
       "6         1077                                    Flattering   \n",
       "7         1077                             Such a fun dress!   \n",
       "8         1077  Dress looks like it's made of cheap material   \n",
       "9         1095                                    Perfect!!!   \n",
       "\n",
       "                                         Review Text  \\\n",
       "0  I had such high hopes for this dress and reall...   \n",
       "1  I love, love, love this jumpsuit. it's fun, fl...   \n",
       "2  This shirt is very flattering to all due to th...   \n",
       "3  I love tracy reese dresses, but this one is no...   \n",
       "4  I aded this in my basket at hte last mintue to...   \n",
       "5  I ordered this in carbon for store pick up, an...   \n",
       "6  I love this dress. i usually get an xs but it ...   \n",
       "7  I'm 5\"5' and 125 lbs. i ordered the s petite t...   \n",
       "8  Dress runs small esp where the zipper area run...   \n",
       "9  More and more i find myself reliant on the rev...   \n",
       "\n",
       "                                           Sentiment Sentiment Label  \\\n",
       "0  {'neg': 0.027, 'neu': 0.792, 'pos': 0.181, 'co...        Positive   \n",
       "1  {'neg': 0.226, 'neu': 0.34, 'pos': 0.434, 'com...        Positive   \n",
       "2  {'neg': 0.0, 'neu': 0.7, 'pos': 0.3, 'compound...        Positive   \n",
       "3  {'neg': 0.0, 'neu': 0.853, 'pos': 0.147, 'comp...        Positive   \n",
       "4  {'neg': 0.023, 'neu': 0.881, 'pos': 0.096, 'co...        Positive   \n",
       "5  {'neg': 0.046, 'neu': 0.901, 'pos': 0.053, 'co...        Positive   \n",
       "6  {'neg': 0.0, 'neu': 0.818, 'pos': 0.182, 'comp...        Positive   \n",
       "7  {'neg': 0.12, 'neu': 0.753, 'pos': 0.126, 'com...        Positive   \n",
       "8  {'neg': 0.044, 'neu': 0.877, 'pos': 0.079, 'co...        Negative   \n",
       "9  {'neg': 0.026, 'neu': 0.899, 'pos': 0.075, 'co...        Positive   \n",
       "\n",
       "   Sentiment Polarity  Polarity  Subjectivity  \n",
       "0            0.073675    0.9427             1  \n",
       "1            0.550000    0.5727             1  \n",
       "2            0.512891    0.9291             1  \n",
       "3            0.178750    0.9419             1  \n",
       "4            0.133750    0.8004             1  \n",
       "5            0.171635   -0.0909             0  \n",
       "6            0.002500    0.7175             1  \n",
       "7            0.204200   -0.3724             0  \n",
       "8           -0.097149    0.3578             1  \n",
       "9            0.244156    0.5520             1  "
      ]
     },
     "execution_count": 99,
     "metadata": {},
     "output_type": "execute_result"
    }
   ],
   "source": [
    "data_1.head(10)"
   ]
  },
  {
   "cell_type": "code",
   "execution_count": 97,
   "id": "ecf69f3b",
   "metadata": {},
   "outputs": [
    {
     "ename": "KeyError",
     "evalue": "19662",
     "output_type": "error",
     "traceback": [
      "\u001b[0;31m---------------------------------------------------------------------------\u001b[0m",
      "\u001b[0;31mKeyError\u001b[0m                                  Traceback (most recent call last)",
      "\u001b[0;32m~/opt/anaconda3/lib/python3.9/site-packages/pandas/core/indexes/base.py\u001b[0m in \u001b[0;36mget_loc\u001b[0;34m(self, key, method, tolerance)\u001b[0m\n\u001b[1;32m   3628\u001b[0m             \u001b[0;32mtry\u001b[0m\u001b[0;34m:\u001b[0m\u001b[0;34m\u001b[0m\u001b[0;34m\u001b[0m\u001b[0m\n\u001b[0;32m-> 3629\u001b[0;31m                 \u001b[0;32mreturn\u001b[0m \u001b[0mself\u001b[0m\u001b[0;34m.\u001b[0m\u001b[0m_engine\u001b[0m\u001b[0;34m.\u001b[0m\u001b[0mget_loc\u001b[0m\u001b[0;34m(\u001b[0m\u001b[0mcasted_key\u001b[0m\u001b[0;34m)\u001b[0m\u001b[0;34m\u001b[0m\u001b[0;34m\u001b[0m\u001b[0m\n\u001b[0m\u001b[1;32m   3630\u001b[0m             \u001b[0;32mexcept\u001b[0m \u001b[0mKeyError\u001b[0m \u001b[0;32mas\u001b[0m \u001b[0merr\u001b[0m\u001b[0;34m:\u001b[0m\u001b[0;34m\u001b[0m\u001b[0;34m\u001b[0m\u001b[0m\n",
      "\u001b[0;32m~/opt/anaconda3/lib/python3.9/site-packages/pandas/_libs/index.pyx\u001b[0m in \u001b[0;36mpandas._libs.index.IndexEngine.get_loc\u001b[0;34m()\u001b[0m\n",
      "\u001b[0;32m~/opt/anaconda3/lib/python3.9/site-packages/pandas/_libs/index.pyx\u001b[0m in \u001b[0;36mpandas._libs.index.IndexEngine.get_loc\u001b[0;34m()\u001b[0m\n",
      "\u001b[0;32m~/opt/anaconda3/lib/python3.9/site-packages/pandas/_libs/index.pyx\u001b[0m in \u001b[0;36mpandas._libs.index.IndexEngine._get_loc_duplicates\u001b[0;34m()\u001b[0m\n",
      "\u001b[0;32m~/opt/anaconda3/lib/python3.9/site-packages/pandas/_libs/index.pyx\u001b[0m in \u001b[0;36mpandas._libs.index.IndexEngine._maybe_get_bool_indexer\u001b[0;34m()\u001b[0m\n",
      "\u001b[0;32m~/opt/anaconda3/lib/python3.9/site-packages/pandas/_libs/index.pyx\u001b[0m in \u001b[0;36mpandas._libs.index._unpack_bool_indexer\u001b[0;34m()\u001b[0m\n",
      "\u001b[0;31mKeyError\u001b[0m: 19662",
      "\nThe above exception was the direct cause of the following exception:\n",
      "\u001b[0;31mKeyError\u001b[0m                                  Traceback (most recent call last)",
      "\u001b[0;32m/var/folders/s3/p7xnhr0s0qj57717dphgxd440000gp/T/ipykernel_98113/69109923.py\u001b[0m in \u001b[0;36m<module>\u001b[0;34m\u001b[0m\n\u001b[1;32m     23\u001b[0m \u001b[0;34m\u001b[0m\u001b[0m\n\u001b[1;32m     24\u001b[0m \u001b[0mitem_id\u001b[0m \u001b[0;34m=\u001b[0m \u001b[0;36m19662\u001b[0m  \u001b[0;31m# Example item ID\u001b[0m\u001b[0;34m\u001b[0m\u001b[0;34m\u001b[0m\u001b[0m\n\u001b[0;32m---> 25\u001b[0;31m \u001b[0mprecision\u001b[0m\u001b[0;34m,\u001b[0m \u001b[0mrecall\u001b[0m\u001b[0;34m,\u001b[0m \u001b[0mf1_score\u001b[0m \u001b[0;34m=\u001b[0m \u001b[0mcalculate_accuracy\u001b[0m\u001b[0;34m(\u001b[0m\u001b[0mitem_id\u001b[0m\u001b[0;34m,\u001b[0m \u001b[0mcosine_similarities\u001b[0m\u001b[0;34m,\u001b[0m \u001b[0mdata\u001b[0m\u001b[0;34m,\u001b[0m \u001b[0mtop_n\u001b[0m\u001b[0;34m=\u001b[0m\u001b[0;36m5\u001b[0m\u001b[0;34m,\u001b[0m \u001b[0mground_truth\u001b[0m\u001b[0;34m=\u001b[0m\u001b[0mground_truth_data\u001b[0m\u001b[0;34m)\u001b[0m\u001b[0;34m\u001b[0m\u001b[0;34m\u001b[0m\u001b[0m\n\u001b[0m\u001b[1;32m     26\u001b[0m \u001b[0mprint\u001b[0m\u001b[0;34m(\u001b[0m\u001b[0;34m\"Precision:\"\u001b[0m\u001b[0;34m,\u001b[0m \u001b[0mprecision\u001b[0m\u001b[0;34m)\u001b[0m\u001b[0;34m\u001b[0m\u001b[0;34m\u001b[0m\u001b[0m\n\u001b[1;32m     27\u001b[0m \u001b[0mprint\u001b[0m\u001b[0;34m(\u001b[0m\u001b[0;34m\"Recall:\"\u001b[0m\u001b[0;34m,\u001b[0m \u001b[0mrecall\u001b[0m\u001b[0;34m)\u001b[0m\u001b[0;34m\u001b[0m\u001b[0;34m\u001b[0m\u001b[0m\n",
      "\u001b[0;32m/var/folders/s3/p7xnhr0s0qj57717dphgxd440000gp/T/ipykernel_98113/69109923.py\u001b[0m in \u001b[0;36mcalculate_accuracy\u001b[0;34m(item_id, cosine_similarities, data, top_n, ground_truth)\u001b[0m\n\u001b[1;32m      3\u001b[0m \u001b[0;32mdef\u001b[0m \u001b[0mcalculate_accuracy\u001b[0m\u001b[0;34m(\u001b[0m\u001b[0mitem_id\u001b[0m\u001b[0;34m,\u001b[0m \u001b[0mcosine_similarities\u001b[0m\u001b[0;34m,\u001b[0m \u001b[0mdata\u001b[0m\u001b[0;34m,\u001b[0m \u001b[0mtop_n\u001b[0m\u001b[0;34m,\u001b[0m \u001b[0mground_truth\u001b[0m\u001b[0;34m=\u001b[0m\u001b[0;32mNone\u001b[0m\u001b[0;34m)\u001b[0m\u001b[0;34m:\u001b[0m\u001b[0;34m\u001b[0m\u001b[0;34m\u001b[0m\u001b[0m\n\u001b[1;32m      4\u001b[0m     \u001b[0mindices\u001b[0m \u001b[0;34m=\u001b[0m \u001b[0mpd\u001b[0m\u001b[0;34m.\u001b[0m\u001b[0mSeries\u001b[0m\u001b[0;34m(\u001b[0m\u001b[0mdata\u001b[0m\u001b[0;34m.\u001b[0m\u001b[0mindex\u001b[0m\u001b[0;34m,\u001b[0m \u001b[0mindex\u001b[0m\u001b[0;34m=\u001b[0m\u001b[0mdata\u001b[0m\u001b[0;34m[\u001b[0m\u001b[0;34m'Clothing ID'\u001b[0m\u001b[0;34m]\u001b[0m\u001b[0;34m)\u001b[0m\u001b[0;34m.\u001b[0m\u001b[0mdrop_duplicates\u001b[0m\u001b[0;34m(\u001b[0m\u001b[0;34m)\u001b[0m\u001b[0;34m\u001b[0m\u001b[0;34m\u001b[0m\u001b[0m\n\u001b[0;32m----> 5\u001b[0;31m     \u001b[0midx\u001b[0m \u001b[0;34m=\u001b[0m \u001b[0mindices\u001b[0m\u001b[0;34m[\u001b[0m\u001b[0mitem_id\u001b[0m\u001b[0;34m]\u001b[0m\u001b[0;34m\u001b[0m\u001b[0;34m\u001b[0m\u001b[0m\n\u001b[0m\u001b[1;32m      6\u001b[0m     \u001b[0msimilarity_scores\u001b[0m \u001b[0;34m=\u001b[0m \u001b[0mlist\u001b[0m\u001b[0;34m(\u001b[0m\u001b[0menumerate\u001b[0m\u001b[0;34m(\u001b[0m\u001b[0mcosine_similarities\u001b[0m\u001b[0;34m[\u001b[0m\u001b[0midx\u001b[0m\u001b[0;34m]\u001b[0m\u001b[0;34m)\u001b[0m\u001b[0;34m)\u001b[0m\u001b[0;34m\u001b[0m\u001b[0;34m\u001b[0m\u001b[0m\n\u001b[1;32m      7\u001b[0m     \u001b[0msimilarity_scores\u001b[0m \u001b[0;34m=\u001b[0m \u001b[0msorted\u001b[0m\u001b[0;34m(\u001b[0m\u001b[0msimilarity_scores\u001b[0m\u001b[0;34m,\u001b[0m \u001b[0mkey\u001b[0m\u001b[0;34m=\u001b[0m\u001b[0;32mlambda\u001b[0m \u001b[0mx\u001b[0m\u001b[0;34m:\u001b[0m \u001b[0mx\u001b[0m\u001b[0;34m[\u001b[0m\u001b[0;36m1\u001b[0m\u001b[0;34m]\u001b[0m\u001b[0;34m,\u001b[0m \u001b[0mreverse\u001b[0m\u001b[0;34m=\u001b[0m\u001b[0;32mTrue\u001b[0m\u001b[0;34m)\u001b[0m\u001b[0;34m\u001b[0m\u001b[0;34m\u001b[0m\u001b[0m\n",
      "\u001b[0;32m~/opt/anaconda3/lib/python3.9/site-packages/pandas/core/series.py\u001b[0m in \u001b[0;36m__getitem__\u001b[0;34m(self, key)\u001b[0m\n\u001b[1;32m    956\u001b[0m \u001b[0;34m\u001b[0m\u001b[0m\n\u001b[1;32m    957\u001b[0m         \u001b[0;32melif\u001b[0m \u001b[0mkey_is_scalar\u001b[0m\u001b[0;34m:\u001b[0m\u001b[0;34m\u001b[0m\u001b[0;34m\u001b[0m\u001b[0m\n\u001b[0;32m--> 958\u001b[0;31m             \u001b[0;32mreturn\u001b[0m \u001b[0mself\u001b[0m\u001b[0;34m.\u001b[0m\u001b[0m_get_value\u001b[0m\u001b[0;34m(\u001b[0m\u001b[0mkey\u001b[0m\u001b[0;34m)\u001b[0m\u001b[0;34m\u001b[0m\u001b[0;34m\u001b[0m\u001b[0m\n\u001b[0m\u001b[1;32m    959\u001b[0m \u001b[0;34m\u001b[0m\u001b[0m\n\u001b[1;32m    960\u001b[0m         \u001b[0;32mif\u001b[0m \u001b[0mis_hashable\u001b[0m\u001b[0;34m(\u001b[0m\u001b[0mkey\u001b[0m\u001b[0;34m)\u001b[0m\u001b[0;34m:\u001b[0m\u001b[0;34m\u001b[0m\u001b[0;34m\u001b[0m\u001b[0m\n",
      "\u001b[0;32m~/opt/anaconda3/lib/python3.9/site-packages/pandas/core/series.py\u001b[0m in \u001b[0;36m_get_value\u001b[0;34m(self, label, takeable)\u001b[0m\n\u001b[1;32m   1067\u001b[0m \u001b[0;34m\u001b[0m\u001b[0m\n\u001b[1;32m   1068\u001b[0m         \u001b[0;31m# Similar to Index.get_value, but we do not fall back to positional\u001b[0m\u001b[0;34m\u001b[0m\u001b[0;34m\u001b[0m\u001b[0m\n\u001b[0;32m-> 1069\u001b[0;31m         \u001b[0mloc\u001b[0m \u001b[0;34m=\u001b[0m \u001b[0mself\u001b[0m\u001b[0;34m.\u001b[0m\u001b[0mindex\u001b[0m\u001b[0;34m.\u001b[0m\u001b[0mget_loc\u001b[0m\u001b[0;34m(\u001b[0m\u001b[0mlabel\u001b[0m\u001b[0;34m)\u001b[0m\u001b[0;34m\u001b[0m\u001b[0;34m\u001b[0m\u001b[0m\n\u001b[0m\u001b[1;32m   1070\u001b[0m         \u001b[0;32mreturn\u001b[0m \u001b[0mself\u001b[0m\u001b[0;34m.\u001b[0m\u001b[0mindex\u001b[0m\u001b[0;34m.\u001b[0m\u001b[0m_get_values_for_loc\u001b[0m\u001b[0;34m(\u001b[0m\u001b[0mself\u001b[0m\u001b[0;34m,\u001b[0m \u001b[0mloc\u001b[0m\u001b[0;34m,\u001b[0m \u001b[0mlabel\u001b[0m\u001b[0;34m)\u001b[0m\u001b[0;34m\u001b[0m\u001b[0;34m\u001b[0m\u001b[0m\n\u001b[1;32m   1071\u001b[0m \u001b[0;34m\u001b[0m\u001b[0m\n",
      "\u001b[0;32m~/opt/anaconda3/lib/python3.9/site-packages/pandas/core/indexes/base.py\u001b[0m in \u001b[0;36mget_loc\u001b[0;34m(self, key, method, tolerance)\u001b[0m\n\u001b[1;32m   3629\u001b[0m                 \u001b[0;32mreturn\u001b[0m \u001b[0mself\u001b[0m\u001b[0;34m.\u001b[0m\u001b[0m_engine\u001b[0m\u001b[0;34m.\u001b[0m\u001b[0mget_loc\u001b[0m\u001b[0;34m(\u001b[0m\u001b[0mcasted_key\u001b[0m\u001b[0;34m)\u001b[0m\u001b[0;34m\u001b[0m\u001b[0;34m\u001b[0m\u001b[0m\n\u001b[1;32m   3630\u001b[0m             \u001b[0;32mexcept\u001b[0m \u001b[0mKeyError\u001b[0m \u001b[0;32mas\u001b[0m \u001b[0merr\u001b[0m\u001b[0;34m:\u001b[0m\u001b[0;34m\u001b[0m\u001b[0;34m\u001b[0m\u001b[0m\n\u001b[0;32m-> 3631\u001b[0;31m                 \u001b[0;32mraise\u001b[0m \u001b[0mKeyError\u001b[0m\u001b[0;34m(\u001b[0m\u001b[0mkey\u001b[0m\u001b[0;34m)\u001b[0m \u001b[0;32mfrom\u001b[0m \u001b[0merr\u001b[0m\u001b[0;34m\u001b[0m\u001b[0;34m\u001b[0m\u001b[0m\n\u001b[0m\u001b[1;32m   3632\u001b[0m             \u001b[0;32mexcept\u001b[0m \u001b[0mTypeError\u001b[0m\u001b[0;34m:\u001b[0m\u001b[0;34m\u001b[0m\u001b[0;34m\u001b[0m\u001b[0m\n\u001b[1;32m   3633\u001b[0m                 \u001b[0;31m# If we have a listlike key, _check_indexing_error will raise\u001b[0m\u001b[0;34m\u001b[0m\u001b[0;34m\u001b[0m\u001b[0m\n",
      "\u001b[0;31mKeyError\u001b[0m: 19662"
     ]
    }
   ],
   "source": [
    "ground_truth_data = {22: [25, 42, 56, 78, 91]}  # Example ground truth data\n",
    "\n",
    "def calculate_accuracy(item_id, cosine_similarities, data, top_n, ground_truth=None):\n",
    "    indices = pd.Series(data.index, index=data['Clothing ID']).drop_duplicates()\n",
    "    idx = indices[item_id]\n",
    "    similarity_scores = list(enumerate(cosine_similarities[idx]))\n",
    "    similarity_scores = sorted(similarity_scores, key=lambda x: x[1], reverse=True)\n",
    "    top_items_indices = [i[0] for i in similarity_scores[1:top_n+1]]\n",
    "    recommended_items = data.iloc[top_items_indices]['Clothing ID'].tolist()\n",
    "    \n",
    "    precision = 0.0\n",
    "    recall = 0.0\n",
    "    f1_score = 0.0\n",
    "    \n",
    "    if ground_truth and item_id in ground_truth:\n",
    "        relevant_items = ground_truth[item_id]  # List of relevant items for the given item ID\n",
    "        \n",
    "        # Calculate accuracy metrics (e.g., precision, recall, F1 score) using recommended_items and relevant_items\n",
    "        # ...\n",
    "        # Compute precision, recall, and F1-score based on the recommended_items and relevant_items\n",
    "\n",
    "    return precision, recall, f1_score\n",
    "\n",
    "item_id = 19662  # Example item ID\n",
    "precision, recall, f1_score = calculate_accuracy(item_id, cosine_similarities, data, top_n=5, ground_truth=ground_truth_data)\n",
    "print(\"Precision:\", precision)\n",
    "print(\"Recall:\", recall)\n",
    "print(\"F1-score:\", f1_score)\n"
   ]
  },
  {
   "cell_type": "code",
   "execution_count": null,
   "id": "7eb7dba0",
   "metadata": {},
   "outputs": [],
   "source": []
  }
 ],
 "metadata": {
  "kernelspec": {
   "display_name": "Python 3 (ipykernel)",
   "language": "python",
   "name": "python3"
  },
  "language_info": {
   "codemirror_mode": {
    "name": "ipython",
    "version": 3
   },
   "file_extension": ".py",
   "mimetype": "text/x-python",
   "name": "python",
   "nbconvert_exporter": "python",
   "pygments_lexer": "ipython3",
   "version": "3.9.13"
  }
 },
 "nbformat": 4,
 "nbformat_minor": 5
}
